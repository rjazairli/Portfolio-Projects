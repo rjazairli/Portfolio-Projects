{
 "cells": [
  {
   "cell_type": "code",
   "execution_count": 17,
   "id": "127794c3",
   "metadata": {},
   "outputs": [],
   "source": [
    "import numpy as np\n",
    "import pandas as pd\n",
    "import matplotlib.pyplot as plt\n",
    "import seaborn as sns"
   ]
  },
  {
   "cell_type": "code",
   "execution_count": 18,
   "id": "ebfdadcb",
   "metadata": {},
   "outputs": [
    {
     "data": {
      "text/html": [
       "<div>\n",
       "<style scoped>\n",
       "    .dataframe tbody tr th:only-of-type {\n",
       "        vertical-align: middle;\n",
       "    }\n",
       "\n",
       "    .dataframe tbody tr th {\n",
       "        vertical-align: top;\n",
       "    }\n",
       "\n",
       "    .dataframe thead th {\n",
       "        text-align: right;\n",
       "    }\n",
       "</style>\n",
       "<table border=\"1\" class=\"dataframe\">\n",
       "  <thead>\n",
       "    <tr style=\"text-align: right;\">\n",
       "      <th></th>\n",
       "      <th>id</th>\n",
       "      <th>member_id</th>\n",
       "      <th>loan_amnt</th>\n",
       "      <th>funded_amnt</th>\n",
       "      <th>funded_amnt_inv</th>\n",
       "      <th>term</th>\n",
       "      <th>int_rate</th>\n",
       "      <th>installment</th>\n",
       "      <th>grade</th>\n",
       "      <th>sub_grade</th>\n",
       "      <th>...</th>\n",
       "      <th>orig_projected_additional_accrued_interest</th>\n",
       "      <th>hardship_payoff_balance_amount</th>\n",
       "      <th>hardship_last_payment_amount</th>\n",
       "      <th>debt_settlement_flag</th>\n",
       "      <th>debt_settlement_flag_date</th>\n",
       "      <th>settlement_status</th>\n",
       "      <th>settlement_date</th>\n",
       "      <th>settlement_amount</th>\n",
       "      <th>settlement_percentage</th>\n",
       "      <th>settlement_term</th>\n",
       "    </tr>\n",
       "  </thead>\n",
       "  <tbody>\n",
       "    <tr>\n",
       "      <th>0</th>\n",
       "      <td>140736622</td>\n",
       "      <td>NaN</td>\n",
       "      <td>30000</td>\n",
       "      <td>30000</td>\n",
       "      <td>30000.0</td>\n",
       "      <td>36 months</td>\n",
       "      <td>18.94%</td>\n",
       "      <td>1098.78</td>\n",
       "      <td>D</td>\n",
       "      <td>D2</td>\n",
       "      <td>...</td>\n",
       "      <td>NaN</td>\n",
       "      <td>NaN</td>\n",
       "      <td>NaN</td>\n",
       "      <td>N</td>\n",
       "      <td>NaN</td>\n",
       "      <td>NaN</td>\n",
       "      <td>NaN</td>\n",
       "      <td>NaN</td>\n",
       "      <td>NaN</td>\n",
       "      <td>NaN</td>\n",
       "    </tr>\n",
       "    <tr>\n",
       "      <th>1</th>\n",
       "      <td>141088786</td>\n",
       "      <td>NaN</td>\n",
       "      <td>8400</td>\n",
       "      <td>8400</td>\n",
       "      <td>8400.0</td>\n",
       "      <td>36 months</td>\n",
       "      <td>17.97%</td>\n",
       "      <td>303.56</td>\n",
       "      <td>D</td>\n",
       "      <td>D1</td>\n",
       "      <td>...</td>\n",
       "      <td>NaN</td>\n",
       "      <td>NaN</td>\n",
       "      <td>NaN</td>\n",
       "      <td>N</td>\n",
       "      <td>NaN</td>\n",
       "      <td>NaN</td>\n",
       "      <td>NaN</td>\n",
       "      <td>NaN</td>\n",
       "      <td>NaN</td>\n",
       "      <td>NaN</td>\n",
       "    </tr>\n",
       "    <tr>\n",
       "      <th>2</th>\n",
       "      <td>141101758</td>\n",
       "      <td>NaN</td>\n",
       "      <td>10000</td>\n",
       "      <td>10000</td>\n",
       "      <td>10000.0</td>\n",
       "      <td>36 months</td>\n",
       "      <td>6.11%</td>\n",
       "      <td>304.72</td>\n",
       "      <td>A</td>\n",
       "      <td>A1</td>\n",
       "      <td>...</td>\n",
       "      <td>NaN</td>\n",
       "      <td>NaN</td>\n",
       "      <td>NaN</td>\n",
       "      <td>N</td>\n",
       "      <td>NaN</td>\n",
       "      <td>NaN</td>\n",
       "      <td>NaN</td>\n",
       "      <td>NaN</td>\n",
       "      <td>NaN</td>\n",
       "      <td>NaN</td>\n",
       "    </tr>\n",
       "    <tr>\n",
       "      <th>3</th>\n",
       "      <td>141110059</td>\n",
       "      <td>NaN</td>\n",
       "      <td>10000</td>\n",
       "      <td>10000</td>\n",
       "      <td>10000.0</td>\n",
       "      <td>36 months</td>\n",
       "      <td>6.67%</td>\n",
       "      <td>307.27</td>\n",
       "      <td>A</td>\n",
       "      <td>A2</td>\n",
       "      <td>...</td>\n",
       "      <td>NaN</td>\n",
       "      <td>NaN</td>\n",
       "      <td>NaN</td>\n",
       "      <td>N</td>\n",
       "      <td>NaN</td>\n",
       "      <td>NaN</td>\n",
       "      <td>NaN</td>\n",
       "      <td>NaN</td>\n",
       "      <td>NaN</td>\n",
       "      <td>NaN</td>\n",
       "    </tr>\n",
       "    <tr>\n",
       "      <th>4</th>\n",
       "      <td>141110722</td>\n",
       "      <td>NaN</td>\n",
       "      <td>10000</td>\n",
       "      <td>10000</td>\n",
       "      <td>10000.0</td>\n",
       "      <td>36 months</td>\n",
       "      <td>7.21%</td>\n",
       "      <td>309.74</td>\n",
       "      <td>A</td>\n",
       "      <td>A3</td>\n",
       "      <td>...</td>\n",
       "      <td>NaN</td>\n",
       "      <td>NaN</td>\n",
       "      <td>NaN</td>\n",
       "      <td>N</td>\n",
       "      <td>NaN</td>\n",
       "      <td>NaN</td>\n",
       "      <td>NaN</td>\n",
       "      <td>NaN</td>\n",
       "      <td>NaN</td>\n",
       "      <td>NaN</td>\n",
       "    </tr>\n",
       "  </tbody>\n",
       "</table>\n",
       "<p>5 rows × 150 columns</p>\n",
       "</div>"
      ],
      "text/plain": [
       "          id  member_id  loan_amnt  funded_amnt  funded_amnt_inv        term  \\\n",
       "0  140736622        NaN      30000        30000          30000.0   36 months   \n",
       "1  141088786        NaN       8400         8400           8400.0   36 months   \n",
       "2  141101758        NaN      10000        10000          10000.0   36 months   \n",
       "3  141110059        NaN      10000        10000          10000.0   36 months   \n",
       "4  141110722        NaN      10000        10000          10000.0   36 months   \n",
       "\n",
       "  int_rate  installment grade sub_grade  ...  \\\n",
       "0   18.94%      1098.78     D        D2  ...   \n",
       "1   17.97%       303.56     D        D1  ...   \n",
       "2    6.11%       304.72     A        A1  ...   \n",
       "3    6.67%       307.27     A        A2  ...   \n",
       "4    7.21%       309.74     A        A3  ...   \n",
       "\n",
       "  orig_projected_additional_accrued_interest hardship_payoff_balance_amount  \\\n",
       "0                                        NaN                            NaN   \n",
       "1                                        NaN                            NaN   \n",
       "2                                        NaN                            NaN   \n",
       "3                                        NaN                            NaN   \n",
       "4                                        NaN                            NaN   \n",
       "\n",
       "  hardship_last_payment_amount  debt_settlement_flag  \\\n",
       "0                          NaN                     N   \n",
       "1                          NaN                     N   \n",
       "2                          NaN                     N   \n",
       "3                          NaN                     N   \n",
       "4                          NaN                     N   \n",
       "\n",
       "  debt_settlement_flag_date settlement_status settlement_date  \\\n",
       "0                       NaN               NaN             NaN   \n",
       "1                       NaN               NaN             NaN   \n",
       "2                       NaN               NaN             NaN   \n",
       "3                       NaN               NaN             NaN   \n",
       "4                       NaN               NaN             NaN   \n",
       "\n",
       "  settlement_amount settlement_percentage  settlement_term  \n",
       "0               NaN                   NaN              NaN  \n",
       "1               NaN                   NaN              NaN  \n",
       "2               NaN                   NaN              NaN  \n",
       "3               NaN                   NaN              NaN  \n",
       "4               NaN                   NaN              NaN  \n",
       "\n",
       "[5 rows x 150 columns]"
      ]
     },
     "execution_count": 18,
     "metadata": {},
     "output_type": "execute_result"
    }
   ],
   "source": [
    "# Loading data and concatenating datagrames into single dataframe\n",
    "df_loans2018Q3 = pd.read_csv('C:/Users/ramie/Desktop/dv01 Loan Data/csv/LoanStats_securev1_2018Q3.csv', dtype={'0': int})\n",
    "df_loans2018Q4 = pd.read_csv('C:/Users/ramie/Desktop/dv01 Loan Data/csv/LoanStats_securev1_2018Q4.csv', dtype={'0': int})\n",
    "df_loans2019Q1 = pd.read_csv('C:/Users/ramie/Desktop/dv01 Loan Data/csv/LoanStats_securev1_2019Q1.csv', dtype={'0': int}, low_memory=False)\n",
    "\n",
    "df_loans = pd.concat([df_loans2018Q3, df_loans2018Q4, df_loans2019Q1])\n",
    "df_loans.head()"
   ]
  },
  {
   "cell_type": "code",
   "execution_count": 19,
   "id": "9d0f7db5",
   "metadata": {},
   "outputs": [
    {
     "data": {
      "text/plain": [
       "id                            0\n",
       "member_id                372281\n",
       "loan_amnt                     0\n",
       "funded_amnt                   0\n",
       "funded_amnt_inv               0\n",
       "                          ...  \n",
       "settlement_status        370674\n",
       "settlement_date          370674\n",
       "settlement_amount        370674\n",
       "settlement_percentage    370674\n",
       "settlement_term          370674\n",
       "Length: 150, dtype: int64"
      ]
     },
     "execution_count": 19,
     "metadata": {},
     "output_type": "execute_result"
    }
   ],
   "source": [
    "# Checking null values\n",
    "\n",
    "pd.isnull(df_loans).sum()"
   ]
  },
  {
   "cell_type": "code",
   "execution_count": 4,
   "id": "ac93c76c",
   "metadata": {},
   "outputs": [
    {
     "name": "stdout",
     "output_type": "stream",
     "text": [
      "<class 'pandas.core.frame.DataFrame'>\n",
      "Int64Index: 372281 entries, 0 to 115674\n",
      "Columns: 150 entries, id to settlement_term\n",
      "dtypes: float64(57), int64(56), object(37)\n",
      "memory usage: 428.9+ MB\n"
     ]
    }
   ],
   "source": [
    "# Checking for total number of rows and columns in dataset, datatypes, and memory usage\n",
    "df_loans.info()"
   ]
  },
  {
   "cell_type": "code",
   "execution_count": 5,
   "id": "c77c5b8c",
   "metadata": {},
   "outputs": [
    {
     "name": "stdout",
     "output_type": "stream",
     "text": [
      "0    Not in Good Standing\n",
      "1    Not in Good Standing\n",
      "2           Good Standing\n",
      "3           Good Standing\n",
      "4           Good Standing\n",
      "Name: loan_status_category, dtype: object\n"
     ]
    }
   ],
   "source": [
    "# Adding Loan_Status_Category as a column to determine Status of Loans\n",
    "conditions = [\n",
    "    (df_loans['loan_status'].isin(['Fully Paid', 'Current', 'In Grace Period'])),\n",
    "    (df_loans['loan_status'].isin(['Late (16-30 days)', 'Late (31-120 days)'])),\n",
    "    (df_loans['loan_status'].isin(['Charged Off', 'Default']))\n",
    "]\n",
    "values = ['Good Standing', 'Late', 'Not in Good Standing']\n",
    "\n",
    "df_loans['loan_status_category'] = np.select(conditions, values, default='Unknown')\n",
    "\n",
    "print(df_loans['loan_status_category'].head())"
   ]
  },
  {
   "cell_type": "code",
   "execution_count": 21,
   "id": "657272ea",
   "metadata": {},
   "outputs": [
    {
     "data": {
      "image/png": "[encoded data removed]",
      "text/plain": [
       "<Figure size 864x576 with 1 Axes>"
      ]
     },
     "metadata": {
      "needs_background": "light"
     },
     "output_type": "display_data"
    }
   ],
   "source": [
    "#Distribution of Loan Amounts\n",
    "plt.figure(figsize=(12, 8))\n",
    "sns.histplot(df_loans['loan_amnt'], kde=False)\n",
    "plt.xlabel('Loan Amount')\n",
    "plt.ylabel('Frequency')\n",
    "plt.title('Distribution of Loan Amounts')\n",
    "plt.show()"
   ]
  },
  {
   "cell_type": "code",
   "execution_count": 16,
   "id": "1e335b97",
   "metadata": {},
   "outputs": [
    {
     "data": {
      "image/png": "[encoded data removed]",
      "text/plain": [
       "<Figure size 864x576 with 1 Axes>"
      ]
     },
     "metadata": {
      "needs_background": "light"
     },
     "output_type": "display_data"
    }
   ],
   "source": [
    "# Displaying Average Interest Rate by Loan Grades\n",
    "df_loans['int_rate'] = df_loans['int_rate'].round(decimals=0).astype(int)\n",
    "\n",
    "df_loans.sort_values(\"grade\", inplace=True)\n",
    "df_loans['grade'] = df_loans['grade'].astype(str)\n",
    "\n",
    "plt.figure(figsize=(12, 8))\n",
    "sns.barplot(x='grade', y='int_rate', data=df_loans, estimator=np.mean)\n",
    "plt.xlabel('Loan Grade')\n",
    "plt.ylabel('Average Interest Rate')\n",
    "plt.title('Average Interest Rate by Loan Grade')\n",
    "plt.show()"
   ]
  },
  {
   "cell_type": "code",
   "execution_count": 26,
   "id": "20c7645c",
   "metadata": {},
   "outputs": [
    {
     "data": {
      "image/png": "[encoded data removed]",
      "text/plain": [
       "<Figure size 432x288 with 1 Axes>"
      ]
     },
     "metadata": {
      "needs_background": "light"
     },
     "output_type": "display_data"
    }
   ],
   "source": [
    "# Counting the occurrences of each loan status category\n",
    "status_counts = df_loans['loan_status_category'].value_counts()\n",
    "\n",
    "plt.bar(status_counts.index, status_counts.values)\n",
    "plt.xlabel('Loan Status Category')\n",
    "plt.ylabel('Number of Loans')\n",
    "plt.title('Loan Status Distribution')\n",
    "plt.show()"
   ]
  },
  {
   "cell_type": "code",
   "execution_count": 23,
   "id": "298b795e",
   "metadata": {},
   "outputs": [
    {
     "data": {
      "image/png": "[encoded data removed]",
      "text/plain": [
       "<Figure size 432x288 with 1 Axes>"
      ]
     },
     "metadata": {
      "needs_background": "light"
     },
     "output_type": "display_data"
    }
   ],
   "source": [
    "# Categorizing loan status by good standing, late, or not in good standing\n",
    "good_standing = ['Fully Paid', 'Current', 'In Grace Period']\n",
    "late = ['Late (16-30 days)', 'Late (31-120 days)']\n",
    "not_good_standing = ['Charged Off', 'Default']\n",
    "df_loans['loan_status_category'] = df_loans['loan_status'].apply(lambda x: 'Good Standing' if x in good_standing else ('Late' if x in late else 'Not in Good Standing'))\n",
    "\n",
    "status_counts = df_loans.groupby(['loan_status_category', 'grade']).size().reset_index(name='counts')\n",
    "status_counts_pivot = status_counts.pivot(index='loan_status_category', columns='grade', values='counts')\n",
    "status_counts_pivot.plot(kind='bar', stacked=True)\n",
    "\n",
    "plt.xlabel('Loan Status Category')\n",
    "plt.ylabel('Number of Loans')\n",
    "plt.title('Loan Status Distribution by Loan Grade')\n",
    "plt.show()"
   ]
  },
  {
   "cell_type": "code",
   "execution_count": 22,
   "id": "fc983af3",
   "metadata": {},
   "outputs": [
    {
     "data": {
      "image/png": "[encoded data removed]",
      "text/plain": [
       "<Figure size 432x288 with 1 Axes>"
      ]
     },
     "metadata": {
      "needs_background": "light"
     },
     "output_type": "display_data"
    }
   ],
   "source": [
    "# A better view of Late/Good Standing\n",
    "good_standing = ['Fully Paid', 'Current', 'In Grace Period']\n",
    "late = ['Late (16-30 days)', 'Late (31-120 days)']\n",
    "not_good_standing = ['Charged Off', 'Default']\n",
    "df_loans['loan_status_category'] = df_loans['loan_status'].apply(lambda x: 'Good Standing' if x in good_standing else ('Late' if x in late else 'Not in Good Standing'))\n",
    "\n",
    "status_counts = df_loans.groupby(['loan_status_category', 'grade']).size().reset_index(name='counts')\n",
    "status_counts = status_counts[status_counts['loan_status_category'] != 'Good Standing']\n",
    "status_counts_pivot = status_counts.pivot(index='loan_status_category', columns='grade', values='counts')\n",
    "status_counts_pivot.plot(kind='bar', stacked=True)\n",
    "\n",
    "plt.xlabel('Loan Status Category')\n",
    "plt.ylabel('Number of Loans')\n",
    "plt.title('Loan Status Distribution by Loan Grade (Late vs Not in Good Standing)')\n",
    "plt.show()"
   ]
  }
 ],
 "metadata": {
  "kernelspec": {
   "display_name": "Python 3 (ipykernel)",
   "language": "python",
   "name": "python3"
  },
  "language_info": {
   "codemirror_mode": {
    "name": "ipython",
    "version": 3
   },
   "file_extension": ".py",
   "mimetype": "text/x-python",
   "name": "python",
   "nbconvert_exporter": "python",
   "pygments_lexer": "ipython3",
   "version": "3.9.12"
  }
 },
 "nbformat": 4,
 "nbformat_minor": 5
}
